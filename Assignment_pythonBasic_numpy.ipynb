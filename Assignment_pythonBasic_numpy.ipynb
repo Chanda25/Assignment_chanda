{
 "cells": [
  {
   "cell_type": "code",
   "execution_count": 1,
   "id": "05bf887e",
   "metadata": {},
   "outputs": [],
   "source": [
    "import sys"
   ]
  },
  {
   "cell_type": "code",
   "execution_count": 2,
   "id": "fdd85990",
   "metadata": {},
   "outputs": [
    {
     "name": "stdout",
     "output_type": "stream",
     "text": [
      "python version: 3.11.5 | packaged by Anaconda, Inc. | (main, Sep 11 2023, 13:26:23) [MSC v.1916 64 bit (AMD64)]\n"
     ]
    }
   ],
   "source": [
    "print(\"python version:\" , sys.version)"
   ]
  },
  {
   "cell_type": "markdown",
   "id": "49d3c745",
   "metadata": {},
   "source": [
    "# For Loop examples:"
   ]
  },
  {
   "cell_type": "code",
   "execution_count": 3,
   "id": "70fcc8d8",
   "metadata": {},
   "outputs": [
    {
     "name": "stdout",
     "output_type": "stream",
     "text": [
      "apple\n",
      "banana\n",
      "cherry\n"
     ]
    }
   ],
   "source": [
    "fruits = [\"apple\", \"banana\", \"cherry\"]\n",
    "for fruit in fruits:\n",
    "    print(fruit)\n"
   ]
  },
  {
   "cell_type": "code",
   "execution_count": 4,
   "id": "9d19b15d",
   "metadata": {},
   "outputs": [
    {
     "name": "stdout",
     "output_type": "stream",
     "text": [
      "C\n",
      "h\n",
      "a\n",
      "n\n",
      "d\n",
      "a\n"
     ]
    }
   ],
   "source": [
    "word = \"Chanda\"\n",
    "for char in word:\n",
    "    print(char)"
   ]
  },
  {
   "cell_type": "code",
   "execution_count": 5,
   "id": "6d971513",
   "metadata": {},
   "outputs": [
    {
     "name": "stdout",
     "output_type": "stream",
     "text": [
      "0\n",
      "1\n"
     ]
    }
   ],
   "source": [
    "for number in range(2):\n",
    "    print(number)"
   ]
  },
  {
   "cell_type": "markdown",
   "id": "f8b42aa9",
   "metadata": {},
   "source": [
    "# While loop Examples"
   ]
  },
  {
   "cell_type": "code",
   "execution_count": 6,
   "id": "38065bcf",
   "metadata": {},
   "outputs": [
    {
     "name": "stdout",
     "output_type": "stream",
     "text": [
      "Enter last number54\n",
      "total addition:  53955\n"
     ]
    }
   ],
   "source": [
    "i=1\n",
    "n=int(input(\"Enter last number\"))\n",
    "sum= 0\n",
    "while(i<=n):\n",
    "    sum=sum + (i*i)\n",
    "    i=i+1\n",
    "print(\"total addition: \",sum)"
   ]
  },
  {
   "cell_type": "code",
   "execution_count": 7,
   "id": "863e5f26",
   "metadata": {},
   "outputs": [
    {
     "name": "stdout",
     "output_type": "stream",
     "text": [
      "Enter last number56\n",
      "sum of even no:  812\n"
     ]
    }
   ],
   "source": [
    "i=1\n",
    "n=int(input(\"Enter last number\"))\n",
    "sum=0\n",
    "while(i<=n):\n",
    "    if(i%2==0):\n",
    "        sum = sum+i\n",
    "    i = i + 1\n",
    "print(\"sum of even no: \", sum)"
   ]
  },
  {
   "cell_type": "code",
   "execution_count": 8,
   "id": "e5a39d0a",
   "metadata": {},
   "outputs": [
    {
     "name": "stdout",
     "output_type": "stream",
     "text": [
      "Enter number54\n",
      "sum of digits= 10.0\n"
     ]
    }
   ],
   "source": [
    "i=int(input(\"Enter number\"))\n",
    "sum=0\n",
    "while(i>0):\n",
    "    sum= sum + (i%10)\n",
    "    i = i/10\n",
    "print(\"sum of digits=\", sum)"
   ]
  },
  {
   "cell_type": "markdown",
   "id": "4effc50e",
   "metadata": {},
   "source": [
    "# Lambda Function"
   ]
  },
  {
   "cell_type": "code",
   "execution_count": 14,
   "id": "6f567c1e",
   "metadata": {},
   "outputs": [
    {
     "name": "stdout",
     "output_type": "stream",
     "text": [
      "121\n"
     ]
    }
   ],
   "source": [
    "def myfunc(n):\n",
    "  return lambda a : a ** n\n",
    "\n",
    "square = myfunc(2)\n",
    "\n",
    "print(square(11))"
   ]
  },
  {
   "cell_type": "markdown",
   "id": "eb05a69b",
   "metadata": {},
   "source": [
    "# Filter Function:"
   ]
  },
  {
   "cell_type": "code",
   "execution_count": 15,
   "id": "c4edd8cb",
   "metadata": {},
   "outputs": [
    {
     "name": "stdout",
     "output_type": "stream",
     "text": [
      "18\n",
      "24\n",
      "32\n"
     ]
    }
   ],
   "source": [
    "ages = [5, 12, 17, 18, 24, 32]\n",
    "\n",
    "def myFunc(x):\n",
    "  if x < 18:\n",
    "    return False\n",
    "  else:\n",
    "    return True\n",
    "\n",
    "adults = filter(myFunc, ages)\n",
    "\n",
    "for x in adults:\n",
    "  print(x)"
   ]
  },
  {
   "cell_type": "markdown",
   "id": "cafa91dc",
   "metadata": {},
   "source": [
    "# Reduce unction"
   ]
  },
  {
   "cell_type": "code",
   "execution_count": 16,
   "id": "d886b439",
   "metadata": {},
   "outputs": [
    {
     "name": "stdout",
     "output_type": "stream",
     "text": [
      "The sum of the list elements is : 17\n",
      "The maximum element of the list is : 6\n"
     ]
    }
   ],
   "source": [
    "\n",
    "\n",
    "# importing functools for reduce() \n",
    "import functools \n",
    "\n",
    "# initializing list \n",
    "lis = [1, 3, 5, 6, 2] \n",
    "\n",
    "# using reduce to compute sum of list \n",
    "print(\"The sum of the list elements is : \", end=\"\") \n",
    "print(functools.reduce(lambda a, b: a+b, lis)) \n",
    "\n",
    "# using reduce to compute maximum element from list \n",
    "print(\"The maximum element of the list is : \", end=\"\") \n",
    "print(functools.reduce(lambda a, b: a if a > b else b, lis)) \n"
   ]
  },
  {
   "cell_type": "markdown",
   "id": "7354afb0",
   "metadata": {},
   "source": [
    "# map function"
   ]
  },
  {
   "cell_type": "code",
   "execution_count": 17,
   "id": "90ce012b",
   "metadata": {},
   "outputs": [
    {
     "name": "stdout",
     "output_type": "stream",
     "text": [
      "[2, 4, 6, 8]\n"
     ]
    }
   ],
   "source": [
    "\n",
    "# Return double of n\n",
    "def addition(n):\n",
    "\treturn n + n\n",
    "\n",
    "# We double all numbers using map()\n",
    "numbers = (1, 2, 3, 4)\n",
    "result = map(addition, numbers)\n",
    "print(list(result))\n"
   ]
  },
  {
   "cell_type": "markdown",
   "id": "51d8576a",
   "metadata": {},
   "source": [
    "# List Methods"
   ]
  },
  {
   "cell_type": "code",
   "execution_count": 18,
   "id": "d0e5f992",
   "metadata": {},
   "outputs": [],
   "source": [
    "#Indes()"
   ]
  },
  {
   "cell_type": "code",
   "execution_count": 19,
   "id": "021c323c",
   "metadata": {},
   "outputs": [
    {
     "name": "stdout",
     "output_type": "stream",
     "text": [
      "1\n"
     ]
    }
   ],
   "source": [
    "# list of animals \n",
    "Animals= [\"cat\", \"dog\", \"tiger\"] \n",
    "# searching positiion of dog \n",
    "print(Animals.index(\"dog\"))"
   ]
  },
  {
   "cell_type": "code",
   "execution_count": 21,
   "id": "71122bc1",
   "metadata": {},
   "outputs": [
    {
     "data": {
      "text/plain": [
       "[45, 12, 34, 56, 78]"
      ]
     },
     "execution_count": 21,
     "metadata": {},
     "output_type": "execute_result"
    }
   ],
   "source": [
    "#insert()\n",
    "mark = [12,34,56,78]\n",
    "mark.insert(0,45)\n",
    "mark"
   ]
  },
  {
   "cell_type": "code",
   "execution_count": 22,
   "id": "b4d41a97",
   "metadata": {},
   "outputs": [
    {
     "data": {
      "text/plain": [
       "[2, 4, 6, 8, 10]"
      ]
     },
     "execution_count": 22,
     "metadata": {},
     "output_type": "execute_result"
    }
   ],
   "source": [
    "#append()\n",
    "list = [2,4,6,8]\n",
    "list.append(10)\n",
    "list"
   ]
  },
  {
   "cell_type": "code",
   "execution_count": 24,
   "id": "548aee64",
   "metadata": {},
   "outputs": [
    {
     "name": "stdout",
     "output_type": "stream",
     "text": [
      "[6, 2, 1, 4, 3, 2, 1]\n"
     ]
    }
   ],
   "source": [
    "#reverse()\n",
    "# a list of numbers\n",
    "list1 = [1, 2, 3, 4, 1, 2, 6] \n",
    "list1.reverse() \n",
    "print(list1) \n"
   ]
  },
  {
   "cell_type": "markdown",
   "id": "dd7e26c6",
   "metadata": {},
   "source": [
    "# Keys()"
   ]
  },
  {
   "cell_type": "code",
   "execution_count": 25,
   "id": "3629c531",
   "metadata": {},
   "outputs": [
    {
     "name": "stdout",
     "output_type": "stream",
     "text": [
      "dict_keys(['apple', 'banana', 'orange'])\n"
     ]
    }
   ],
   "source": [
    "fruits = {\"apple\": 50, \"banana\": 20, \"orange\": 30}\n",
    "# Get the keys of the dictionary\n",
    "print(fruits.keys()) "
   ]
  },
  {
   "cell_type": "markdown",
   "id": "b22d9b56",
   "metadata": {},
   "source": [
    "# values()"
   ]
  },
  {
   "cell_type": "code",
   "execution_count": 26,
   "id": "c9255b6f",
   "metadata": {},
   "outputs": [
    {
     "name": "stdout",
     "output_type": "stream",
     "text": [
      "dict_values([50, 20, 30])\n"
     ]
    }
   ],
   "source": [
    "fruits = {\"apple\": 50, \"banana\": 20, \"orange\": 30}\n",
    "\n",
    "print(fruits.values())"
   ]
  },
  {
   "cell_type": "markdown",
   "id": "f2f5f63c",
   "metadata": {},
   "source": [
    "# items()"
   ]
  },
  {
   "cell_type": "code",
   "execution_count": 28,
   "id": "9689a2ae",
   "metadata": {},
   "outputs": [
    {
     "name": "stdout",
     "output_type": "stream",
     "text": [
      "dict_items([('apple', 50), ('banana', 20), ('orange', 30)])\n"
     ]
    }
   ],
   "source": [
    "print(fruits.items())"
   ]
  },
  {
   "cell_type": "markdown",
   "id": "e7e8083c",
   "metadata": {},
   "source": [
    "# •  The union() method returns a new set that contains all the elements from both sets"
   ]
  },
  {
   "cell_type": "code",
   "execution_count": 29,
   "id": "9b62657e",
   "metadata": {},
   "outputs": [
    {
     "name": "stdout",
     "output_type": "stream",
     "text": [
      "{1, 2, 3, 4, 5, 6}\n"
     ]
    }
   ],
   "source": [
    "set1 = {1, 2, 3, 4}\n",
    "set2 = {3, 4, 5, 6}\n",
    "\n",
    "print(set1.union(set2))"
   ]
  },
  {
   "cell_type": "markdown",
   "id": "1f705a37",
   "metadata": {},
   "source": [
    "# •  The intersection() method returns a new set that contains only the elements that are common to both sets. It is equivalent to using the & operator."
   ]
  },
  {
   "cell_type": "code",
   "execution_count": 31,
   "id": "e7458a80",
   "metadata": {},
   "outputs": [
    {
     "name": "stdout",
     "output_type": "stream",
     "text": [
      "{3, 4}\n"
     ]
    }
   ],
   "source": [
    "print(set1.intersection(set2)) \n"
   ]
  },
  {
   "cell_type": "markdown",
   "id": "f3aba39d",
   "metadata": {},
   "source": [
    "# A frozenset is a special type of set that is immutable, meaning it cannot be changed or modified once it is created. It can be used as a key in a dictionary or as an element of another set, unlike a regular set. A frozenset can be created by using the frozenset() function on an iterable object, such as a list, a tuple, or a set."
   ]
  },
  {
   "cell_type": "code",
   "execution_count": 32,
   "id": "b1ee244a",
   "metadata": {},
   "outputs": [
    {
     "name": "stdout",
     "output_type": "stream",
     "text": [
      "frozenset({'banana', 'orange', 'apple'})\n"
     ]
    },
    {
     "ename": "AttributeError",
     "evalue": "'frozenset' object has no attribute 'add'",
     "output_type": "error",
     "traceback": [
      "\u001b[1;31m---------------------------------------------------------------------------\u001b[0m",
      "\u001b[1;31mAttributeError\u001b[0m                            Traceback (most recent call last)",
      "Cell \u001b[1;32mIn[32], line 4\u001b[0m\n\u001b[0;32m      2\u001b[0m frozen_fruits \u001b[38;5;241m=\u001b[39m \u001b[38;5;28mfrozenset\u001b[39m(fruits)\n\u001b[0;32m      3\u001b[0m \u001b[38;5;28mprint\u001b[39m(frozen_fruits)\n\u001b[1;32m----> 4\u001b[0m frozen_fruits\u001b[38;5;241m.\u001b[39madd(\u001b[38;5;124m\"\u001b[39m\u001b[38;5;124mcherry\u001b[39m\u001b[38;5;124m\"\u001b[39m)\n",
      "\u001b[1;31mAttributeError\u001b[0m: 'frozenset' object has no attribute 'add'"
     ]
    }
   ],
   "source": [
    "fruits = [\"apple\", \"banana\", \"orange\"]\n",
    "frozen_fruits = frozenset(fruits)\n",
    "print(frozen_fruits)\n",
    "frozen_fruits.add(\"cherry\")"
   ]
  },
  {
   "cell_type": "markdown",
   "id": "e114dacb",
   "metadata": {},
   "source": [
    "# Decoders"
   ]
  },
  {
   "cell_type": "code",
   "execution_count": 33,
   "id": "07fe654f",
   "metadata": {},
   "outputs": [
    {
     "name": "stdout",
     "output_type": "stream",
     "text": [
      "HELLO\n",
      "HELLO\n"
     ]
    }
   ],
   "source": [
    "\n",
    "def shout(text): \n",
    "\treturn text.upper() \n",
    "\n",
    "print(shout('Hello')) \n",
    "\n",
    "yell = shout \n",
    "\n",
    "print(yell('Hello')) \n"
   ]
  },
  {
   "cell_type": "markdown",
   "id": "8f334c6b",
   "metadata": {},
   "source": [
    "# List comprehension"
   ]
  },
  {
   "cell_type": "code",
   "execution_count": 34,
   "id": "10cf3bc5",
   "metadata": {},
   "outputs": [
    {
     "name": "stdout",
     "output_type": "stream",
     "text": [
      "['apple', 'banana', 'mango']\n"
     ]
    }
   ],
   "source": [
    "fruits = [\"apple\", \"banana\", \"cherry\", \"kiwi\", \"mango\"]\n",
    "newlist = []\n",
    "\n",
    "for x in fruits:\n",
    "  if \"a\" in x:\n",
    "    newlist.append(x)\n",
    "\n",
    "print(newlist)"
   ]
  },
  {
   "cell_type": "markdown",
   "id": "92b7fbab",
   "metadata": {},
   "source": [
    "# hstack()"
   ]
  },
  {
   "cell_type": "code",
   "execution_count": 35,
   "id": "901f8e7d",
   "metadata": {},
   "outputs": [
    {
     "name": "stdout",
     "output_type": "stream",
     "text": [
      "1st Input array : \n",
      " [1 2 3]\n",
      "2nd Input array : \n",
      " [4 5 6]\n",
      "Output horizontally stacked array:\n",
      "  [1 2 3 4 5 6]\n"
     ]
    }
   ],
   "source": [
    "\n",
    "# hstack() function \n",
    "\n",
    "import numpy as np \n",
    "\n",
    "# input array \n",
    "in_arr1 = np.array([ 1, 2, 3] ) \n",
    "print (\"1st Input array : \\n\", in_arr1) \n",
    "\n",
    "in_arr2 = np.array([ 4, 5, 6] ) \n",
    "print (\"2nd Input array : \\n\", in_arr2) \n",
    "\n",
    "# Stacking the two arrays horizontally \n",
    "out_arr = np.hstack((in_arr1, in_arr2)) \n",
    "print (\"Output horizontally stacked array:\\n \", out_arr) \n"
   ]
  },
  {
   "cell_type": "markdown",
   "id": "85139b70",
   "metadata": {},
   "source": [
    "# Vstack()"
   ]
  },
  {
   "cell_type": "code",
   "execution_count": 38,
   "id": "df884204",
   "metadata": {},
   "outputs": [
    {
     "data": {
      "text/plain": [
       "array([[1, 2, 3],\n",
       "       [4, 5, 6]])"
      ]
     },
     "execution_count": 38,
     "metadata": {},
     "output_type": "execute_result"
    }
   ],
   "source": [
    "import numpy as np\n",
    "a = np.array([1, 2, 3])\n",
    "b = np.array([4, 5, 6])\n",
    "np.vstack((a, b))\n"
   ]
  },
  {
   "cell_type": "markdown",
   "id": "0a16310d",
   "metadata": {},
   "source": [
    "# Zeros()"
   ]
  },
  {
   "cell_type": "code",
   "execution_count": 43,
   "id": "bfed09cd",
   "metadata": {},
   "outputs": [
    {
     "data": {
      "text/plain": [
       "array([0., 0.])"
      ]
     },
     "execution_count": 43,
     "metadata": {},
     "output_type": "execute_result"
    }
   ],
   "source": [
    "a=np.zeros(2)\n",
    "a"
   ]
  },
  {
   "cell_type": "markdown",
   "id": "75c2ffd4",
   "metadata": {},
   "source": [
    "# ones()"
   ]
  },
  {
   "cell_type": "code",
   "execution_count": 46,
   "id": "7a82e5d8",
   "metadata": {},
   "outputs": [
    {
     "data": {
      "text/plain": [
       "array([[1, 1, 1],\n",
       "       [1, 1, 1],\n",
       "       [1, 1, 1]])"
      ]
     },
     "execution_count": 46,
     "metadata": {},
     "output_type": "execute_result"
    }
   ],
   "source": [
    "a=np.ones((3,3),int)\n",
    "a"
   ]
  },
  {
   "cell_type": "markdown",
   "id": "d0aec112",
   "metadata": {},
   "source": [
    "# eye()"
   ]
  },
  {
   "cell_type": "code",
   "execution_count": 48,
   "id": "41f75e7d",
   "metadata": {},
   "outputs": [
    {
     "data": {
      "text/plain": [
       "array([[1., 0., 0., 0.],\n",
       "       [0., 1., 0., 0.],\n",
       "       [0., 0., 1., 0.],\n",
       "       [0., 0., 0., 1.]])"
      ]
     },
     "execution_count": 48,
     "metadata": {},
     "output_type": "execute_result"
    }
   ],
   "source": [
    "a=np.eye(4)\n",
    "a"
   ]
  },
  {
   "cell_type": "markdown",
   "id": "07bf04e2",
   "metadata": {},
   "source": [
    "# diag()"
   ]
  },
  {
   "cell_type": "code",
   "execution_count": 50,
   "id": "0f76463a",
   "metadata": {},
   "outputs": [
    {
     "data": {
      "text/plain": [
       "array([1., 1., 1., 1.])"
      ]
     },
     "execution_count": 50,
     "metadata": {},
     "output_type": "execute_result"
    }
   ],
   "source": [
    "b=np.diag(a)\n",
    "b"
   ]
  },
  {
   "cell_type": "markdown",
   "id": "93116d48",
   "metadata": {},
   "source": [
    "# randint()"
   ]
  },
  {
   "cell_type": "code",
   "execution_count": 52,
   "id": "9b61f914",
   "metadata": {},
   "outputs": [
    {
     "data": {
      "text/plain": [
       "array([2, 3, 3, 2, 4, 4])"
      ]
     },
     "execution_count": 52,
     "metadata": {},
     "output_type": "execute_result"
    }
   ],
   "source": [
    "b=np.random.randint(2,5,6)\n",
    "b"
   ]
  },
  {
   "cell_type": "markdown",
   "id": "c1ad8632",
   "metadata": {},
   "source": [
    "# rand()"
   ]
  },
  {
   "cell_type": "code",
   "execution_count": 53,
   "id": "66cc776b",
   "metadata": {},
   "outputs": [
    {
     "data": {
      "text/plain": [
       "array([0.21142938, 0.66183383, 0.98435155])"
      ]
     },
     "execution_count": 53,
     "metadata": {},
     "output_type": "execute_result"
    }
   ],
   "source": [
    "c=np.random.rand(3)\n",
    "c"
   ]
  },
  {
   "cell_type": "markdown",
   "id": "55522d7c",
   "metadata": {},
   "source": [
    "# seed()"
   ]
  },
  {
   "cell_type": "code",
   "execution_count": 56,
   "id": "82e83181",
   "metadata": {},
   "outputs": [
    {
     "data": {
      "text/plain": [
       "array([0.98901151, 0.54954473, 0.2814473 , 0.07728957, 0.4444695 ,\n",
       "       0.47280797])"
      ]
     },
     "execution_count": 56,
     "metadata": {},
     "output_type": "execute_result"
    }
   ],
   "source": [
    "np.random.seed(45)\n",
    "a=np.random.rand(6)\n",
    "a"
   ]
  },
  {
   "cell_type": "markdown",
   "id": "c5a23326",
   "metadata": {},
   "source": [
    "# linspace()"
   ]
  },
  {
   "cell_type": "code",
   "execution_count": 57,
   "id": "a2d99c6c",
   "metadata": {},
   "outputs": [
    {
     "name": "stdout",
     "output_type": "stream",
     "text": [
      "[ 0.   2.5  5.   7.5 10. ]\n"
     ]
    }
   ],
   "source": [
    "i = np.linspace(0, 10, 5)\n",
    "print(i)"
   ]
  },
  {
   "cell_type": "markdown",
   "id": "a1807bd6",
   "metadata": {},
   "source": [
    "# unique()"
   ]
  },
  {
   "cell_type": "code",
   "execution_count": 58,
   "id": "2b68ab6c",
   "metadata": {},
   "outputs": [
    {
     "name": "stdout",
     "output_type": "stream",
     "text": [
      "[1 2 3 4 5 6]\n"
     ]
    }
   ],
   "source": [
    "j = np.array([1, 2, 3, 2, 4, 1, 5, 6, 4])\n",
    "k = np.unique(j)\n",
    "print(k)"
   ]
  },
  {
   "cell_type": "markdown",
   "id": "54cc1a40",
   "metadata": {},
   "source": [
    "# reshape()"
   ]
  },
  {
   "cell_type": "code",
   "execution_count": 64,
   "id": "8558167f",
   "metadata": {},
   "outputs": [
    {
     "data": {
      "text/plain": [
       "array([[ 1,  2,  3],\n",
       "       [ 4,  5,  6],\n",
       "       [ 7,  8,  9],\n",
       "       [10, 11, 12]])"
      ]
     },
     "execution_count": 64,
     "metadata": {},
     "output_type": "execute_result"
    }
   ],
   "source": [
    "a = np.array([1, 2, 3, 4, 5, 6, 7, 8, 9, 10, 11, 12])\n",
    "a=a.reshape(4,3)\n",
    "a"
   ]
  },
  {
   "cell_type": "markdown",
   "id": "3c547ac7",
   "metadata": {},
   "source": [
    "# argmin()"
   ]
  },
  {
   "cell_type": "code",
   "execution_count": 69,
   "id": "93ae0679",
   "metadata": {},
   "outputs": [
    {
     "data": {
      "text/plain": [
       "array([3, 3, 3], dtype=int64)"
      ]
     },
     "execution_count": 69,
     "metadata": {},
     "output_type": "execute_result"
    }
   ],
   "source": [
    "b=np.argmax(a,axis=0)\n",
    "b"
   ]
  },
  {
   "cell_type": "markdown",
   "id": "16528a22",
   "metadata": {},
   "source": [
    "# agrmax()"
   ]
  },
  {
   "cell_type": "code",
   "execution_count": 70,
   "id": "955609f8",
   "metadata": {},
   "outputs": [
    {
     "data": {
      "text/plain": [
       "array([2, 2, 2, 2], dtype=int64)"
      ]
     },
     "execution_count": 70,
     "metadata": {},
     "output_type": "execute_result"
    }
   ],
   "source": [
    "c=np.argmax(a,axis=1)\n",
    "c"
   ]
  },
  {
   "cell_type": "code",
   "execution_count": null,
   "id": "927daec7",
   "metadata": {},
   "outputs": [],
   "source": []
  }
 ],
 "metadata": {
  "kernelspec": {
   "display_name": "Python 3 (ipykernel)",
   "language": "python",
   "name": "python3"
  },
  "language_info": {
   "codemirror_mode": {
    "name": "ipython",
    "version": 3
   },
   "file_extension": ".py",
   "mimetype": "text/x-python",
   "name": "python",
   "nbconvert_exporter": "python",
   "pygments_lexer": "ipython3",
   "version": "3.11.5"
  }
 },
 "nbformat": 4,
 "nbformat_minor": 5
}
