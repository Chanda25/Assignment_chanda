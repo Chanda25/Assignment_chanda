{
 "cells": [
  {
   "cell_type": "markdown",
   "id": "94059094",
   "metadata": {},
   "source": [
    "# what is pandas?"
   ]
  },
  {
   "cell_type": "markdown",
   "id": "6d55c81d",
   "metadata": {},
   "source": [
    "# Pandas is a Python library that provides powerful and easy-to-use data structures and \n",
    "functions for data analysis and manipulation. \n",
    "Pandas is built on top of NumPy, \n",
    "a library for numerical computing,\n",
    "and can handle various types of data,\n",
    "such as tabular, time series, text, and more."
   ]
  },
  {
   "cell_type": "markdown",
   "id": "f371d93b",
   "metadata": {},
   "source": [
    "# Difference between series and dataframe ? "
   ]
  },
  {
   "cell_type": "code",
   "execution_count": 1,
   "id": "918c30d0",
   "metadata": {},
   "outputs": [],
   "source": [
    "#A series and a dataframe are two main data structures in pandas, a Python library for data analysis and manipulation.\n",
    "#A series is a one-dimensional array of labeled data, similar to a column in a spreadsheet.\n",
    "#The main difference between a series and a dataframe is that a series can only store one type of data, while a dataframe can store multiple types of data.\n",
    "#A series also has a single index, while a dataframe has a row index and a column index"
   ]
  },
  {
   "cell_type": "markdown",
   "id": "b689eed8",
   "metadata": {},
   "source": [
    "# Difference between loc and iloc ? "
   ]
  },
  {
   "cell_type": "code",
   "execution_count": 4,
   "id": "c543991a",
   "metadata": {},
   "outputs": [],
   "source": [
    "#•  loc selects rows and columns by labels, which can be strings, integers, or a range of values."
   ]
  },
  {
   "cell_type": "code",
   "execution_count": 5,
   "id": "3d50fc0c",
   "metadata": {},
   "outputs": [],
   "source": [
    "#•  iloc selects rows and columns by integer positions, which start from 0 and are exclusive of the end value."
   ]
  },
  {
   "cell_type": "markdown",
   "id": "c533d601",
   "metadata": {},
   "source": [
    "# what does value_counts() ? "
   ]
  },
  {
   "cell_type": "code",
   "execution_count": 6,
   "id": "4eed055b",
   "metadata": {},
   "outputs": [],
   "source": [
    "#The value_counts() function is a pandas method that returns a Series containing the frequency of each unique value in a Series or a DataFrame.\n",
    "#It can be used to count the number or proportion of occurrences of different values in a data set"
   ]
  },
  {
   "cell_type": "markdown",
   "id": "849429cf",
   "metadata": {},
   "source": [
    "# how do you handle missing values using pandas ?"
   ]
  },
  {
   "cell_type": "code",
   "execution_count": 7,
   "id": "3fe9b7eb",
   "metadata": {},
   "outputs": [],
   "source": [
    "#Missing values, often represented as NaN (Not a Number),\n",
    "#can cause problems during data analysis and manipulation. Pandas provides several functions to handle missing values in a DataFrame, such as:\n",
    "\n",
    "#•  isnull() and notnull() to detect and filter missing values.\n",
    "\n",
    "#•  dropna() to remove rows or columns with missing values.\n",
    "\n",
    "#•  fillna() to replace missing values with a specified value or a method (such as mean, median, mode, etc.).\n",
    "\n",
    "#•  replace() to replace missing values with another value or a mapping.\n",
    "\n",
    "#•  interpolate() to fill missing values with linear or other interpolation methods."
   ]
  },
  {
   "cell_type": "markdown",
   "id": "474e106f",
   "metadata": {},
   "source": [
    "# How do you merge 2 tables using pandas ?"
   ]
  },
  {
   "cell_type": "code",
   "execution_count": 8,
   "id": "13d283ca",
   "metadata": {},
   "outputs": [],
   "source": [
    "#To merge two tables using pandas, you can use the pd.merge() function, \n",
    "#which takes two DataFrames as arguments and returns a new DataFrame that combines the data from both tables based on a common key or keys. \n",
    "#You can specify how to join the tables using the how argument,\n",
    "#which can be 'inner', 'outer', 'left', or 'right'"
   ]
  },
  {
   "cell_type": "markdown",
   "id": "3d4dbd04",
   "metadata": {},
   "source": [
    "# What does group by in pandas ? "
   ]
  },
  {
   "cell_type": "code",
   "execution_count": 2,
   "id": "2687c6fc",
   "metadata": {},
   "outputs": [],
   "source": [
    "#Group by in pandas is a method that allows you to split a DataFrame into smaller groups based on some criteria, \n",
    "#such as the values of a column or a function. \n",
    "#You can then apply a function to each group separately and combine the results into a new DataFrame"
   ]
  },
  {
   "cell_type": "code",
   "execution_count": 10,
   "id": "352448be",
   "metadata": {},
   "outputs": [
    {
     "name": "stdout",
     "output_type": "stream",
     "text": [
      "      name  subject  grade\n",
      "0    Alice     Math     90\n",
      "1      Bob     Math     80\n",
      "2  Charlie  English     85\n",
      "3    David  English     75\n",
      "4      Eve     Math     95\n"
     ]
    }
   ],
   "source": [
    "import pandas as pd\n",
    "df = pd.DataFrame({'name': ['Alice', 'Bob', 'Charlie', 'David', 'Eve'],\n",
    "'subject': ['Math', 'Math', 'English', 'English', 'Math'],\n",
    "'grade': [90, 80, 85, 75, 95]})\n",
    "print(df)"
   ]
  },
  {
   "cell_type": "code",
   "execution_count": 12,
   "id": "ae29ce95",
   "metadata": {},
   "outputs": [
    {
     "data": {
      "text/plain": [
       "[    name subject  grade\n",
       " 0  Alice    Math     90\n",
       " 1    Bob    Math     80\n",
       " 4    Eve    Math     95]"
      ]
     },
     "execution_count": 12,
     "metadata": {},
     "output_type": "execute_result"
    }
   ],
   "source": [
    "maths=[df.groupby('subject').get_group('Math')]\n",
    "maths"
   ]
  },
  {
   "cell_type": "markdown",
   "id": "9aaa89e7",
   "metadata": {},
   "source": [
    "# difference between CrossTab vs Pivot table ? "
   ]
  },
  {
   "cell_type": "code",
   "execution_count": 13,
   "id": "414629bc",
   "metadata": {},
   "outputs": [],
   "source": [
    "#•  CrossTab accepts both pandas DataFrames and NumPy arrays as inputs, while Pivot table only accepts pandas DataFrames.\n",
    "#•  CrossTab can normalize the resulting table by dividing the values by the row or column totals, while Pivot table does not have this option.\n",
    "\n",
    "#•  CrossTab has a default aggregation function of count, while Pivot table has a default aggregation function of mean."
   ]
  },
  {
   "cell_type": "markdown",
   "id": "dcd57b11",
   "metadata": {},
   "source": [
    "# In  which scenerio what kind of plot you will use ? Numerical ==? , Categorical ==? "
   ]
  },
  {
   "cell_type": "code",
   "execution_count": 14,
   "id": "b83e0b9b",
   "metadata": {},
   "outputs": [],
   "source": [
    "#•  Numerical data are data that can be measured or counted, such as height, weight, temperature, etc. Some common plots for numerical data are:\n",
    "\n",
    "#•  Histogram: A histogram shows the frequency distribution of a single numerical variable by dividing the data into bins and counting the number of observations in each bin. \n",
    "    #It can be used to examine the shape, spread, and outliers of the data.\n",
    "\n",
    "#•  Scatter plot: A scatter plot shows the relationship between two numerical variables by plotting the points on a Cartesian plane\n",
    "    #. It can be used to explore the correlation, trend, and clustering of the data.\n",
    "\n",
    "#•  Line plot: A line plot shows the change of a numerical variable over time or another continuous variable by connecting the points with a line.\n",
    "    #It can be used to visualize the trend, pattern, and seasonality of the data.\n",
    "\n",
    "#•  Box plot: A box plot shows the summary statistics of a numerical variable by displaying the minimum, maximum, median, first quartile, and third quartile of the data.\n",
    "    #It can be used to compare the distribution, variability, and outliers of the data across different groups.\n",
    "\n",
    "#•  Spline chart: A spline chart is similar to a line plot, but it uses a smooth curve instead of a straight line to connect the points. \n",
    "    #It can be used to show the trend and variation of the data more smoothly and elegantly."
   ]
  },
  {
   "cell_type": "code",
   "execution_count": 15,
   "id": "7c217ecc",
   "metadata": {},
   "outputs": [],
   "source": [
    " # Categorical data are data that can be divided into discrete groups or categories, such as gender, color, animal, etc. Some common plots for categorical data are:\n",
    "\n",
    "#  Bar chart: A bar chart shows the frequency or proportion of a single categorical variable by using rectangular bars with heights or lengths proportional to the values.\n",
    "  #It can be used to compare the counts or percentages of the data across different categories.\n",
    "\n",
    "#•  Pie chart: A pie chart shows the proportion of a single categorical variable by using a circular chart divided into sectors with angles proportional to the values. \n",
    " #   It can be used to show the relative size of the data in each category as a part of the whole.\n",
    "\n",
    "#•  Treemap chart: A treemap chart shows the proportion of a single or multiple categorical variables by using nested rectangles with areas proportional to the values.\n",
    " #   It can be used to show the hierarchical structure and relative size of the data in each category and subcategory.\n",
    "\n",
    "#•  Sunburst chart: A sunburst chart shows the proportion of a single or multiple categorical variables by using a circular chart with concentric rings divided into sectors with angles proportional to the values. \n",
    " #   It can be used to show the hierarchical structure and relative size of the data in each category and subcategory.\n",
    "\n",
    "#•  Sankey diagram: A Sankey diagram shows the flow of a single or multiple categorical variables by using curved links with widths proportional to the values.\n",
    " #   It can be used to show the movement and transformation of the data from one category to another."
   ]
  },
  {
   "cell_type": "markdown",
   "id": "be1dffc4",
   "metadata": {},
   "source": [
    "# What does TimeDelta in Pandas ?"
   ]
  },
  {
   "cell_type": "code",
   "execution_count": 16,
   "id": "f83cd726",
   "metadata": {},
   "outputs": [],
   "source": [
    "#TimeDelta in pandas is a data type that represents a duration, the difference between two dates or times.\n",
    "#It is similar to python's datetime.\n",
    "#timedelta, but also compatible with numpy's timedelta64."
   ]
  },
  {
   "cell_type": "code",
   "execution_count": 17,
   "id": "5a862343",
   "metadata": {},
   "outputs": [
    {
     "name": "stdout",
     "output_type": "stream",
     "text": [
      "1 days 02:00:00\n"
     ]
    }
   ],
   "source": [
    " import pandas\n",
    "import pandas as pd\n",
    "\n",
    "# create a TimeDelta object from a string\n",
    "td = pd.to_timedelta(\"1 days 2 hours\")\n",
    "print(td)"
   ]
  },
  {
   "cell_type": "markdown",
   "id": "108fc2d9",
   "metadata": {},
   "source": [
    "# How can you extract day , month , year in a date column using pandas ? "
   ]
  },
  {
   "cell_type": "code",
   "execution_count": 18,
   "id": "1562b192",
   "metadata": {},
   "outputs": [],
   "source": [
    "#To extract day, month, and year from a date column using pandas, \n",
    "#you can use the pd.to_datetime() function to convert the date column into a pandas datetime object.\n",
    "#Then, you can use the dt accessor to extract the day, month, and year components from the datetime object. "
   ]
  },
  {
   "cell_type": "code",
   "execution_count": 19,
   "id": "681887c3",
   "metadata": {},
   "outputs": [
    {
     "name": "stdout",
     "output_type": "stream",
     "text": [
      "         date\n",
      "0  2021-08-23\n",
      "1  2021-08-24\n",
      "2  2021-08-25\n"
     ]
    }
   ],
   "source": [
    "import pandas as pd\n",
    "df = pd.DataFrame({'date': ['2021-08-23', '2021-08-24', '2021-08-25']})\n",
    "print(df)"
   ]
  },
  {
   "cell_type": "code",
   "execution_count": 22,
   "id": "98ebbff0",
   "metadata": {},
   "outputs": [
    {
     "data": {
      "text/html": [
       "<div>\n",
       "<style scoped>\n",
       "    .dataframe tbody tr th:only-of-type {\n",
       "        vertical-align: middle;\n",
       "    }\n",
       "\n",
       "    .dataframe tbody tr th {\n",
       "        vertical-align: top;\n",
       "    }\n",
       "\n",
       "    .dataframe thead th {\n",
       "        text-align: right;\n",
       "    }\n",
       "</style>\n",
       "<table border=\"1\" class=\"dataframe\">\n",
       "  <thead>\n",
       "    <tr style=\"text-align: right;\">\n",
       "      <th></th>\n",
       "      <th>date</th>\n",
       "      <th>day</th>\n",
       "      <th>month</th>\n",
       "      <th>year</th>\n",
       "    </tr>\n",
       "  </thead>\n",
       "  <tbody>\n",
       "    <tr>\n",
       "      <th>0</th>\n",
       "      <td>2021-08-23</td>\n",
       "      <td>23</td>\n",
       "      <td>8</td>\n",
       "      <td>2021</td>\n",
       "    </tr>\n",
       "    <tr>\n",
       "      <th>1</th>\n",
       "      <td>2021-08-24</td>\n",
       "      <td>24</td>\n",
       "      <td>8</td>\n",
       "      <td>2021</td>\n",
       "    </tr>\n",
       "    <tr>\n",
       "      <th>2</th>\n",
       "      <td>2021-08-25</td>\n",
       "      <td>25</td>\n",
       "      <td>8</td>\n",
       "      <td>2021</td>\n",
       "    </tr>\n",
       "  </tbody>\n",
       "</table>\n",
       "</div>"
      ],
      "text/plain": [
       "        date  day  month  year\n",
       "0 2021-08-23   23      8  2021\n",
       "1 2021-08-24   24      8  2021\n",
       "2 2021-08-25   25      8  2021"
      ]
     },
     "execution_count": 22,
     "metadata": {},
     "output_type": "execute_result"
    }
   ],
   "source": [
    "# convert the date column to a datetime object\n",
    "df['date'] = pd.to_datetime(df['date'])\n",
    "# extract the day, month, and year from the date column\n",
    "df['day'] = df['date'].dt.day\n",
    "df['month'] = df['date'].dt.month\n",
    "df['year'] = df['date'].dt.year\n",
    "\n",
    "df"
   ]
  },
  {
   "cell_type": "markdown",
   "id": "97d73953",
   "metadata": {},
   "source": [
    "# How can you extract hours , minutes , seconds in a datetime column ? "
   ]
  },
  {
   "cell_type": "code",
   "execution_count": 25,
   "id": "87587a78",
   "metadata": {},
   "outputs": [
    {
     "data": {
      "text/html": [
       "<div>\n",
       "<style scoped>\n",
       "    .dataframe tbody tr th:only-of-type {\n",
       "        vertical-align: middle;\n",
       "    }\n",
       "\n",
       "    .dataframe tbody tr th {\n",
       "        vertical-align: top;\n",
       "    }\n",
       "\n",
       "    .dataframe thead th {\n",
       "        text-align: right;\n",
       "    }\n",
       "</style>\n",
       "<table border=\"1\" class=\"dataframe\">\n",
       "  <thead>\n",
       "    <tr style=\"text-align: right;\">\n",
       "      <th></th>\n",
       "      <th>datetime</th>\n",
       "      <th>hour</th>\n",
       "      <th>minute</th>\n",
       "      <th>second</th>\n",
       "    </tr>\n",
       "  </thead>\n",
       "  <tbody>\n",
       "    <tr>\n",
       "      <th>0</th>\n",
       "      <td>2021-08-23 12:00:00</td>\n",
       "      <td>12</td>\n",
       "      <td>0</td>\n",
       "      <td>0</td>\n",
       "    </tr>\n",
       "    <tr>\n",
       "      <th>1</th>\n",
       "      <td>2021-08-24 13:30:00</td>\n",
       "      <td>13</td>\n",
       "      <td>30</td>\n",
       "      <td>0</td>\n",
       "    </tr>\n",
       "    <tr>\n",
       "      <th>2</th>\n",
       "      <td>2021-08-25 14:45:00</td>\n",
       "      <td>14</td>\n",
       "      <td>45</td>\n",
       "      <td>0</td>\n",
       "    </tr>\n",
       "  </tbody>\n",
       "</table>\n",
       "</div>"
      ],
      "text/plain": [
       "             datetime  hour  minute  second\n",
       "0 2021-08-23 12:00:00    12       0       0\n",
       "1 2021-08-24 13:30:00    13      30       0\n",
       "2 2021-08-25 14:45:00    14      45       0"
      ]
     },
     "execution_count": 25,
     "metadata": {},
     "output_type": "execute_result"
    }
   ],
   "source": [
    "import pandas as pd\n",
    "df = pd.DataFrame({'datetime': ['2021-08-23 12:00:00', '2021-08-24 13:30:00', '2021-08-25 14:45:00']})\n",
    "df['datetime'] = pd.to_datetime(df['datetime'])\n",
    "df['hour'] = df['datetime'].dt.hour\n",
    "df['minute'] = df['datetime'].dt.minute\n",
    "df['second'] = df['datetime'].dt.second\n",
    "df"
   ]
  },
  {
   "cell_type": "markdown",
   "id": "018598d2",
   "metadata": {},
   "source": [
    "# How do you read a excel file , csv file and json file in jupyter notebook using pandas ?"
   ]
  },
  {
   "cell_type": "code",
   "execution_count": 26,
   "id": "1e2f66ee",
   "metadata": {},
   "outputs": [],
   "source": [
    "#•  pd.read_excel(): This function reads an excel file and returns a pandas DataFrame.\n",
    "#•  pd.read_csv(): This function reads a csv file and returns a pandas DataFrame. \n",
    "#•  pd.read_json(): This function reads a json file and returns a pandas DataFrame. \n"
   ]
  },
  {
   "cell_type": "markdown",
   "id": "4284166b",
   "metadata": {},
   "source": [
    "# How can you create  excel data from a dataframe using pandas ? "
   ]
  },
  {
   "cell_type": "code",
   "execution_count": 27,
   "id": "ed6990a4",
   "metadata": {},
   "outputs": [],
   "source": [
    "#To create excel data from a dataframe using pandas, you can use the pd.DataFrame.to_excel() method, \n",
    "#which takes a dataframe and a file name as arguments and writes the dataframe to an excel file"
   ]
  },
  {
   "cell_type": "code",
   "execution_count": 28,
   "id": "8bc61dba",
   "metadata": {},
   "outputs": [],
   "source": [
    "import pandas as pd\n",
    "df = pd.DataFrame({'name': ['Alice', 'Bob', 'Charlie'],\n",
    "'age': [25, 30, 35],\n",
    "'gender': ['F', 'M', 'M']})"
   ]
  },
  {
   "cell_type": "code",
   "execution_count": 29,
   "id": "d629f447",
   "metadata": {},
   "outputs": [],
   "source": [
    "# write the dataframe to an excel file\n",
    "df.to_excel(\"data.xlsx\")"
   ]
  },
  {
   "cell_type": "code",
   "execution_count": null,
   "id": "46835cfc",
   "metadata": {},
   "outputs": [],
   "source": []
  }
 ],
 "metadata": {
  "kernelspec": {
   "display_name": "Python 3 (ipykernel)",
   "language": "python",
   "name": "python3"
  },
  "language_info": {
   "codemirror_mode": {
    "name": "ipython",
    "version": 3
   },
   "file_extension": ".py",
   "mimetype": "text/x-python",
   "name": "python",
   "nbconvert_exporter": "python",
   "pygments_lexer": "ipython3",
   "version": "3.11.5"
  }
 },
 "nbformat": 4,
 "nbformat_minor": 5
}
